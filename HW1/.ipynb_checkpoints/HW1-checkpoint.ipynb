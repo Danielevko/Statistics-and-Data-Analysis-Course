{
 "cells": [
  {
   "cell_type": "markdown",
   "metadata": {
    "id": "umi1YlTfCN99"
   },
   "source": [
    "### IDs:\n",
    "Insert yours IDs to the cell below"
   ]
  },
  {
   "cell_type": "markdown",
   "metadata": {
    "id": "eoAoJgptCN-B"
   },
   "source": [
    "ID #1: 205789167\n",
    "\n",
    "ID #2: 315535351\n"
   ]
  },
  {
   "cell_type": "markdown",
   "metadata": {
    "id": "LiR4PsMNCN-B"
   },
   "source": [
    "## Read the following instructions carefully:\n",
    "\n",
    "1. This jupyter notebook contains all the step by step instructions needed for this exercise.\n",
    "1. You are free to add cells.\n",
    "1. Write your functions and your answers in this jupyter notebook only.\n",
    "1. Answers to theoretical questions should be written in **markdown cells (with $\\LaTeX$ support)**.\n",
    "1. Submit this jupyter notebook only using your ID as a filename. Not to use ZIP or RAR. For example, your Moodle submission file name should look like this (two id numbers): `123456789_987654321.ipynb`."
   ]
  },
  {
   "cell_type": "code",
   "execution_count": 1,
   "metadata": {
    "ExecuteTime": {
     "end_time": "2024-01-21T21:52:19.835242400Z",
     "start_time": "2024-01-21T21:52:19.744724600Z"
    },
    "id": "oTNfxs-eCN-D"
   },
   "outputs": [],
   "source": [
    "from math import ceil, log, floor, factorial\n",
    "import numpy as np\n",
    "from matplotlib import pyplot as plt\n",
    "from scipy.stats import nbinom, binom, multinomial, geom\n",
    "import seaborn as sns\n",
    "import pandas as pd\n",
    "%matplotlib inline"
   ]
  },
  {
   "cell_type": "markdown",
   "metadata": {
    "id": "vLic0EakCN-E"
   },
   "source": [
    "### Question 1 - Defective products"
   ]
  },
  {
   "cell_type": "markdown",
   "metadata": {
    "id": "f037tG8_CN-F"
   },
   "source": [
    "In a manufacturing pipeline products are 3% defective. We are interested in examining a defective product to see what goes wrong on the belt. We need to ask the facility manager to send us a set of independent samples for examination."
   ]
  },
  {
   "cell_type": "markdown",
   "metadata": {
    "id": "5rn1iLoPCN-F"
   },
   "source": [
    "#### 1.A\n",
    "\n",
    "How many independent samples should we ask for in order to have a 85% probability of having at least one defective product in the batch sent? You should write a function."
   ]
  },
  {
   "cell_type": "markdown",
   "metadata": {},
   "source": [
    "<h1>Solution Question 1</h1>"
   ]
  },
  {
   "cell_type": "markdown",
   "metadata": {
    "id": "UcYwVVwVCN-F"
   },
   "source": [
    "<u>The question was first solved on paper and then converted to Python function, as follows:</u>\n",
    "\n",
    "$X ∼ Bin(N, 0.03)$\n",
    "\n",
    "The probability of receiving a defective product out of N production of products.\n",
    "\n",
    "The probability that at least one product is defective is given by:\n",
    "\n",
    "$$ P(X \\geq 1) = 1 - P(X = 0) $$\n",
    "$$ = 1 - \\binom{N}{0} \\times 0.03^0 \\times (1 - 0.03)^N $$\n",
    "$$ = 1 - 0.97^N $$\n",
    "$$ \\text{For } 1 - 0.97^N = 0.85 \\text{, solve for N} $$\n",
    "$$ \\text{Thus, } -0.97^N = -0.15 $$\n",
    "$$ \\text{Which implies } 0.97^N = 0.15 $$\n",
    "$$ n = \\frac{\\log(0.15)}{\\log(0.97)} $$\n",
    "$$ n \\approx 63 $$\n"
   ]
  },
  {
   "cell_type": "markdown",
   "metadata": {},
   "source": [
    "Similarly, for every p and alpha, if we want to calculate N:"
   ]
  },
  {
   "cell_type": "markdown",
   "metadata": {
    "id": "VJG14cR1dgl5"
   },
   "source": [
    "$$P(X \\geq 1) = 1 - P(X < 1) = 1 - \\left[ \\binom{n}{0} p^0 (1-p)^{n-0} \\right] = 1 - (1-p)^n$$\n",
    "$$(1-p)^n = \\alpha \\Rightarrow n = \\frac{\\log(\\alpha)}{\\log(1-p)}$$\n",
    "\n"
   ]
  },
  {
   "cell_type": "code",
   "execution_count": 3,
   "metadata": {
    "ExecuteTime": {
     "end_time": "2024-01-21T21:52:43.228674500Z",
     "start_time": "2024-01-21T21:52:43.082389500Z"
    },
    "colab": {
     "base_uri": "https://localhost:8080/"
    },
    "id": "2ryLK4ORCN-F",
    "outputId": "3e913931-6d0c-4f8a-e0df-13f20f5c7679"
   },
   "outputs": [
    {
     "name": "stdout",
     "output_type": "stream",
     "text": [
      "63\n"
     ]
    }
   ],
   "source": [
    "def return_prob_products(prob_defect, prob_at_least_one):\n",
    "    return ceil(log(1-prob_at_least_one, 1-prob_defect))\n",
    "\n",
    "prob_defect = 0.03\n",
    "prob_at_least_one = 0.85\n",
    "\n",
    "number_of_products = return_prob_products(prob_defect, prob_at_least_one)\n",
    "print(number_of_products)\n",
    "\n"
   ]
  },
  {
   "cell_type": "markdown",
   "metadata": {
    "id": "NJ6Szu8JCN-H"
   },
   "source": [
    "#### 1.B\n",
    "Answer this part again with the following changes: products are 4% defective and we want a 95% probability of at least one defective product in the batch."
   ]
  },
  {
   "cell_type": "code",
   "execution_count": 4,
   "metadata": {
    "ExecuteTime": {
     "end_time": "2024-01-21T21:52:44.624681200Z",
     "start_time": "2024-01-21T21:52:44.472635400Z"
    },
    "colab": {
     "base_uri": "https://localhost:8080/"
    },
    "id": "Cj77pGejCN-H",
    "outputId": "2788e311-3a76-496a-a1e0-6d4b82588217"
   },
   "outputs": [
    {
     "name": "stdout",
     "output_type": "stream",
     "text": [
      "74\n"
     ]
    }
   ],
   "source": [
    "prob_defect = 0.04\n",
    "prob_at_least_one = 0.95\n",
    "\n",
    "number_of_products = return_prob_products(prob_defect, prob_at_least_one)\n",
    "print(number_of_products)"
   ]
  },
  {
   "cell_type": "markdown",
   "metadata": {
    "id": "KgUlD0NjCN-I"
   },
   "source": [
    "#### 1.C\n",
    "\n",
    "Consider the following cases and calculate how many independent samples are required:\n",
    "\n",
    "1. Products are 10% defective and we want a 90% probability of at least 5 defective products in the batch.\n",
    "1. Products are 30% defective and we want a 90% probability of at least 15 defective products in the batch.\n",
    "\n",
    "Explain the difference between the two results. You should use mathematical reasoning based on the properties of distributions you saw in class and visualizations in your answer."
   ]
  },
  {
   "cell_type": "code",
   "execution_count": 5,
   "metadata": {
    "ExecuteTime": {
     "end_time": "2024-01-21T21:52:48.678431800Z",
     "start_time": "2024-01-21T21:52:48.601193200Z"
    },
    "id": "BtcscJj4CN-J"
   },
   "outputs": [],
   "source": [
    "def return_num_products(prob_defect, R, bound):\n",
    "    \"\"\"\n",
    "    Calculate the minimum number of products to inspect.\n",
    "    \"\"\"\n",
    "    # Initialize the number of products to inspect\n",
    "    N = 0\n",
    "\n",
    "    # Increment N until the probability of finding at least 'at_least_num' defective items\n",
    "    # is within the specified bound\n",
    "    while (nbinom(R,prob_defect, loc=R).cdf(N)) < bound:\n",
    "        N += 1\n",
    "    return N\n"
   ]
  },
  {
   "cell_type": "markdown",
   "metadata": {
    "id": "zMBNkYCrHC4g"
   },
   "source": [
    "<h2>1.C.A</h2>"
   ]
  },
  {
   "cell_type": "markdown",
   "metadata": {
    "id": "m0DHNLg3CN-J"
   },
   "source": [
    "Let's define $X_1$ as the number of trials needed until the 5th defective product.\n",
    "\n",
    "$X_1∼NBinom(p=0.1, r=5)$\n",
    "\n",
    "Let's calculate how many independent samples are required to get the 5th defective product with the distribution above:"
   ]
  },
  {
   "cell_type": "code",
   "execution_count": 6,
   "metadata": {
    "ExecuteTime": {
     "end_time": "2024-01-21T21:52:49.884060600Z",
     "start_time": "2024-01-21T21:52:49.673956400Z"
    },
    "colab": {
     "base_uri": "https://localhost:8080/"
    },
    "id": "yU15oQe2CN-J",
    "outputId": "78b57d94-8a31-4b0f-adc0-edba9b31c825"
   },
   "outputs": [
    {
     "name": "stdout",
     "output_type": "stream",
     "text": [
      "78\n"
     ]
    }
   ],
   "source": [
    "print(return_num_products(prob_defect=0.1, R=5, bound=0.9))"
   ]
  },
  {
   "cell_type": "markdown",
   "metadata": {
    "id": "uzwkt-vLHMVz"
   },
   "source": [
    "<h2>1.C.B</h2>"
   ]
  },
  {
   "cell_type": "markdown",
   "metadata": {
    "id": "oRSJBe8ICN-K"
   },
   "source": [
    "Let's define $X_2$ as the number of trials needed until the 15th defective product.\n",
    "\n",
    "$X_2∼NBinom(p=0.3, r=15)$\n",
    "\n",
    "Note that $X_2$ can be written also in the following way:\n",
    "\n",
    "$X_2∼NBinom(p=0.1*m, r=5*m)$ where $m=3$\n",
    "\n",
    "Let's calculate how many independent samples are required to get the 15th defective product with the distribution above:"
   ]
  },
  {
   "cell_type": "code",
   "execution_count": 7,
   "metadata": {
    "ExecuteTime": {
     "end_time": "2024-01-21T21:52:52.287269600Z",
     "start_time": "2024-01-21T21:52:51.984533300Z"
    },
    "colab": {
     "base_uri": "https://localhost:8080/"
    },
    "id": "SMtYSCweCN-K",
    "outputId": "0e32ef5b-d145-41fe-a7cc-04658ede0bc0"
   },
   "outputs": [
    {
     "name": "stdout",
     "output_type": "stream",
     "text": [
      "64\n"
     ]
    }
   ],
   "source": [
    "print(return_num_products(prob_defect=0.3, R=15, bound=0.9))"
   ]
  },
  {
   "cell_type": "markdown",
   "metadata": {
    "id": "xymWBSq8HxZX"
   },
   "source": [
    "<h2>1.C.C</h2>"
   ]
  },
  {
   "cell_type": "markdown",
   "metadata": {
    "id": "ohGIcMhBCN-L"
   },
   "source": [
    "Let's examine our two Negative Binomal random variables.\n",
    "\n",
    "\n",
    "\n",
    "\n",
    "\n",
    "\n"
   ]
  },
  {
   "cell_type": "code",
   "execution_count": 8,
   "metadata": {
    "ExecuteTime": {
     "end_time": "2024-01-21T21:52:55.484064600Z",
     "start_time": "2024-01-21T21:52:55.340792200Z"
    },
    "id": "M1SA8W5CCN-L"
   },
   "outputs": [],
   "source": [
    "r = 5\n",
    "p = 0.1\n",
    "m = 3\n",
    "\n",
    "X1 = nbinom(r, p, loc=r)\n",
    "X2 = nbinom(r*m, p*m, loc = r*m)"
   ]
  },
  {
   "cell_type": "markdown",
   "metadata": {
    "id": "UjC9p2roCN-L"
   },
   "source": [
    "We can see that the expected values of the two distributions are equal, since $E(X)= {r \\over p}$, where $r$ is the number of successes with a probability of $p$ for success, we get the following:\n",
    "\n",
    "$E(X_1)={5 \\over 0.1} = {3*5 \\over 3 * 0.1} = {15 \\over 0.3} = E(X_2)$"
   ]
  },
  {
   "cell_type": "code",
   "execution_count": 9,
   "metadata": {
    "ExecuteTime": {
     "end_time": "2024-01-21T21:52:57.540077200Z",
     "start_time": "2024-01-21T21:52:57.385335500Z"
    },
    "colab": {
     "base_uri": "https://localhost:8080/"
    },
    "id": "eJbYr6-7CN-L",
    "outputId": "17bb80c6-eb38-4f73-c941-e0ec6b8bfe91"
   },
   "outputs": [
    {
     "name": "stdout",
     "output_type": "stream",
     "text": [
      "50.0\n",
      "50.0\n"
     ]
    }
   ],
   "source": [
    "EX1 = 5/0.1\n",
    "EX2 = 15/0.3\n",
    "\n",
    "print(EX1)\n",
    "print(EX2)"
   ]
  },
  {
   "cell_type": "markdown",
   "metadata": {
    "id": "oAEYI9pfCN-M"
   },
   "source": [
    "However, the variance of the two variables is different, since the equation for variance is $V(X)={r(1-p) \\over p^2}$ and we get:\n",
    "\n",
    "$V(X_1) = 450 \\neq 116.67 = V(X_2) $\n",
    "\n",
    "So how can we compare between the two variables?"
   ]
  },
  {
   "cell_type": "code",
   "execution_count": 10,
   "metadata": {
    "ExecuteTime": {
     "end_time": "2024-01-21T21:52:59.042427400Z",
     "start_time": "2024-01-21T21:52:58.860760100Z"
    },
    "colab": {
     "base_uri": "https://localhost:8080/"
    },
    "id": "MDY5i_bKCN-M",
    "outputId": "c8df5b38-d310-4ca6-c982-734715c30b9e"
   },
   "outputs": [
    {
     "name": "stdout",
     "output_type": "stream",
     "text": [
      "450.0\n",
      "116.67\n"
     ]
    }
   ],
   "source": [
    "print(round(X1.var(),2))\n",
    "print(round(X2.var(),2))"
   ]
  },
  {
   "cell_type": "markdown",
   "metadata": {
    "id": "D4AJ_wLsCN-N"
   },
   "source": [
    "Let's visualize the PDF values in the range of $2E(X)$ (which is the same for both variables):"
   ]
  },
  {
   "cell_type": "code",
   "execution_count": 14,
   "metadata": {
    "ExecuteTime": {
     "end_time": "2024-01-21T21:53:02.608590300Z",
     "start_time": "2024-01-21T21:53:00.647059500Z"
    },
    "colab": {
     "base_uri": "https://localhost:8080/",
     "height": 548
    },
    "id": "PcwkzHKJCN-N",
    "outputId": "34c8f7f3-eb13-4d48-eba9-a0759964b337"
   },
   "outputs": [
    {
     "data": {
      "image/png": "[encoded data removed]",
      "text/plain": [
       "<Figure size 600x600 with 1 Axes>"
      ]
     },
     "metadata": {},
     "output_type": "display_data"
    }
   ],
   "source": [
    "i = range(0, int(round(2*EX1, 0)))\n",
    "\n",
    "p_X1_i = X1.pmf([xx for xx in i])\n",
    "p_X2_i = X2.pmf([xx for xx in i])\n",
    "\n",
    "plt.figure(figsize=(6, 6))\n",
    "plt.subplot(1,2,1)\n",
    "\n",
    "plt.plot(i, p_X1_i, 'x', label=\"$X1\\\\sim NB({{{0}}},{{{1}}})$\".format(p, r))\n",
    "plt.plot(i, p_X2_i, 'v', label=\"$X2\\\\sim NB({{{0}}},{{{1}}})$\".format(round(p*m,2), r*m))\n",
    "\n",
    "plt.xlabel(\"i\", fontsize=16)\n",
    "plt.ylabel('$Prob(i)$', fontsize=16)\n",
    "plt.legend()\n",
    "plt.show()"
   ]
  },
  {
   "cell_type": "markdown",
   "metadata": {
    "id": "KvIDDy4lCN-N"
   },
   "source": [
    "X1 peaks earlier and declines more rapidly, suggesting a higher peak probability, but the high variance indicates that the values are dispersed more widely around this peak. <br>\n",
    "X2 indicates less variability in the overall outcomes despite the trials being more consistently around a higher mean. <br>\n",
    "\n",
    "<h3> How can we determine which variable will reach R faster if we compare the production of defective products? </h3>\n",
    "\n",
    "We need to calculate the probability of P(X1>X2) (or the other way around -  it doesn't matter).\n",
    "\n",
    "For that, we need to calculate the upper bound and the lower bound."
   ]
  },
  {
   "cell_type": "code",
   "execution_count": 15,
   "metadata": {
    "ExecuteTime": {
     "end_time": "2024-01-21T21:53:18.832894300Z",
     "start_time": "2024-01-21T21:53:02.600074700Z"
    },
    "id": "iVovR5SfCN-O"
   },
   "outputs": [],
   "source": [
    "R = range(r, int(m*r/p))\n",
    "lower = [sum(X1.pmf(y)*(1-X2.cdf(y)) for y in range(r*m, i)) for i in R]\n",
    "upper = [1-sum(X2.pmf(x)*(1-X1.cdf(x-1)) for x in range(r,i)) for i in R]"
   ]
  },
  {
   "cell_type": "code",
   "execution_count": 16,
   "metadata": {
    "ExecuteTime": {
     "end_time": "2024-01-21T21:53:19.668372Z",
     "start_time": "2024-01-21T21:53:18.832393400Z"
    },
    "colab": {
     "base_uri": "https://localhost:8080/",
     "height": 564
    },
    "id": "V9nsdbe5CN-O",
    "outputId": "1edd910f-6c37-41f9-b16d-49f53995fad0"
   },
   "outputs": [
    {
     "data": {
      "image/png": "[encoded data removed]",
      "text/plain": [
       "<Figure size 1200x600 with 1 Axes>"
      ]
     },
     "metadata": {},
     "output_type": "display_data"
    }
   ],
   "source": [
    "plt.figure(figsize=(12, 6))\n",
    "plt.plot(list(R), lower, label='Lower Bound')\n",
    "plt.plot(list(R), upper, label='Upper Bound')\n",
    "plt.title('Lower and Upper Bounds')\n",
    "plt.xlabel('Value')\n",
    "plt.ylabel('Probability')\n",
    "plt.legend()\n",
    "plt.grid(True)\n",
    "plt.show()"
   ]
  },
  {
   "cell_type": "markdown",
   "metadata": {
    "id": "xovyZUQFCN-P"
   },
   "source": [
    "Finding the minimum value that represents the intersection point requires calculating the difference between the upper and lower bounds"
   ]
  },
  {
   "cell_type": "code",
   "execution_count": 17,
   "metadata": {
    "ExecuteTime": {
     "end_time": "2024-01-21T21:53:25.270512800Z",
     "start_time": "2024-01-21T21:53:25.175961Z"
    },
    "colab": {
     "base_uri": "https://localhost:8080/"
    },
    "id": "9B7M23lXCN-P",
    "outputId": "f3ce22cb-24ca-4d76-ccef-928bc507c93e"
   },
   "outputs": [
    {
     "name": "stdout",
     "output_type": "stream",
     "text": [
      "The lower bound probability of P(X1>X2) is 0.521, whereas the upper bound probability is 0.531.\n"
     ]
    }
   ],
   "source": [
    "difference_upper_lower = []\n",
    "for u, l in zip(upper, lower):\n",
    "    difference_upper_lower.append(abs(u-l))\n",
    "\n",
    "position = difference_upper_lower.index(min(difference_upper_lower))\n",
    "print(f'The lower bound probability of P(X1>X2) is {round(lower[position],3)}, whereas the upper bound probability is {round(upper[position],3)}.')\n",
    "# print('The lower bound probability of P(X1>X2) is {}, whereas the upper bound probability is {}.'.format(round(lower[position],3),round(upper[position],3)))"
   ]
  },
  {
   "cell_type": "markdown",
   "metadata": {
    "id": "dIm_EUjvCN-Q"
   },
   "source": [
    "P(X1>X2) $\\epsilon$ [0.521, 0.531]"
   ]
  },
  {
   "cell_type": "markdown",
   "metadata": {
    "id": "WhToyNF6CN-b"
   },
   "source": [
    "Therefore, X1 will reach the number of defective products (5) faster than X2 despite having a lower probability of producing defective products than X2."
   ]
  },
  {
   "cell_type": "markdown",
   "metadata": {
    "id": "R41E1SWwCN-c"
   },
   "source": [
    "### Question 2 - Rent distributions in Randomistan"
   ]
  },
  {
   "cell_type": "markdown",
   "metadata": {
    "id": "BuIwLfwUCN-c"
   },
   "source": [
    "The state of Randomistan conducted a survey to study the distribution of rent paid in two neighboring towns, Stochastic Heights and Random Grove, to be denoted SH and RG.<br>\n",
    "\n",
    "Here are some findings of the survey:\n",
    "* The population of SH and RG is 16,000 and 22,000 respectively. <br>\n",
    "* The mean rent in SH and RG is 6300RCU and 4200RCU respectively.\n",
    "* The median rent is 4600RCU in both towns.\n",
    "* The IQR of the rent is smaller in SH than in RG.\n",
    "\n",
    "All data generated in this question needs to be consistent with these findings."
   ]
  },
  {
   "cell_type": "markdown",
   "metadata": {
    "id": "v6egLsTWIEuS"
   },
   "source": [
    "#### 2.A\n",
    "Draw histograms that describe 2 different scenarii of possible distributions of rent in the two towns.\n",
    "Your histograms should:<br>\n",
    "* Use bins of 100RCU each.\n",
    "* Have at least 10 non zero bins."
   ]
  },
  {
   "cell_type": "code",
   "execution_count": 18,
   "metadata": {
    "ExecuteTime": {
     "end_time": "2024-01-21T22:35:56.797978400Z",
     "start_time": "2024-01-21T22:35:56.773431700Z"
    },
    "id": "6jrewVegPBWj"
   },
   "outputs": [],
   "source": [
    "def get_iqr(data):\n",
    "    q3, q1 = np.percentile(data, [75, 25])\n",
    "    return q3 - q1"
   ]
  },
  {
   "cell_type": "code",
   "execution_count": 25,
   "metadata": {
    "ExecuteTime": {
     "end_time": "2024-01-21T22:35:57.276284200Z",
     "start_time": "2024-01-21T22:35:57.227960800Z"
    },
    "id": "L3trV21bCN-f"
   },
   "outputs": [],
   "source": [
    "def gen_random_custom(N, mean, median, std):\n",
    "    temp_mean = mean\n",
    "\n",
    "    # Lengths of arr1 and arr2\n",
    "    arr_length = (N - 1) // 2\n",
    "\n",
    "    if mean > median:\n",
    "        mean_arr1= abs(median-std*6)\n",
    "        # Generate arr1 and arr2\n",
    "        arr1 = np.random.normal(mean_arr1, std, arr_length)  # Values less than median\n",
    "        mid = [median, median]\n",
    "        arr2 = np.random.normal(mean + std, std, arr_length)  # Values around and above\n",
    "        while True:\n",
    "            combined_array = np.concatenate((arr1, mid, arr2))\n",
    "            current_mean = np.mean(combined_array)\n",
    "            if int(current_mean) != int(mean):\n",
    "                temp_mean += 1\n",
    "                arr2 = np.random.normal(temp_mean, std, arr_length)\n",
    "            else:\n",
    "                break\n",
    "        return np.concatenate((arr1, mid, arr2))\n",
    "    else:\n",
    "        mean_arr1= abs(median + std*4)\n",
    "        # Generate arr1 and arr2\n",
    "        arr1 = np.random.normal(mean_arr1, std, arr_length)  # Values less than median\n",
    "        mid = [median, median]\n",
    "        arr2 = np.random.normal(mean, std, arr_length)  # Values around and above\n",
    "        while True:\n",
    "            combined_array = np.concatenate((arr1, mid, arr2))\n",
    "            current_mean = np.mean(combined_array)\n",
    "            if int(current_mean) > int(mean):\n",
    "                temp_mean -= 1\n",
    "                arr2 = np.random.normal(temp_mean, std//4, arr_length)\n",
    "                if temp_mean < 0:\n",
    "                    break\n",
    "            else:\n",
    "                break\n",
    "        return np.concatenate((arr1, mid, arr2))"
   ]
  },
  {
   "cell_type": "code",
   "execution_count": 26,
   "metadata": {
    "ExecuteTime": {
     "end_time": "2024-01-21T22:35:58.194225600Z",
     "start_time": "2024-01-21T22:35:58.148469400Z"
    },
    "id": "p-begTIfPBWj"
   },
   "outputs": [],
   "source": [
    "N_SH, N_RG = 16000, 22000\n",
    "mean_rent_SH, mean_rent_RG = 6300, 4200\n",
    "median = 4600\n",
    "std_SH, std_RG = 250, 750"
   ]
  },
  {
   "cell_type": "code",
   "execution_count": 27,
   "metadata": {
    "ExecuteTime": {
     "end_time": "2024-01-21T22:36:05.570428800Z",
     "start_time": "2024-01-21T22:35:58.814835500Z"
    },
    "colab": {
     "base_uri": "https://localhost:8080/",
     "height": 366
    },
    "id": "6PYbHkhVPBWk",
    "outputId": "1d0804fe-503c-4b75-bc38-e25be340eacc"
   },
   "outputs": [
    {
     "data": {
      "image/png": "[encoded data removed]",
      "text/plain": [
       "<Figure size 1400x1200 with 2 Axes>"
      ]
     },
     "metadata": {},
     "output_type": "display_data"
    }
   ],
   "source": [
    "samples_sh_sce1 = gen_random_custom(N_SH, mean_rent_SH, median, std_SH)\n",
    "samples_rg_sce1 = gen_random_custom(N_RG, mean_rent_RG, median, std_RG)\n",
    "\n",
    "# Determine histogram ranges and bins\n",
    "bin_width = 100  # 100 RCU per bin\n",
    "bins_sh = np.arange(min(samples_sh_sce1), max(samples_sh_sce1) + bin_width, bin_width)\n",
    "bins_rg = np.arange(min(samples_rg_sce1), max(samples_rg_sce1) + bin_width, bin_width)\n",
    "\n",
    "# Adjusting the standard deviations by multiplying by 1.2 for the second scenario\n",
    "std_SH_adj = std_SH*0.9\n",
    "std_RG_adj = std_RG*0.9\n",
    "\n",
    "# Generate new samples for the second scenario\n",
    "samples_sh_sce2 = gen_random_custom(N_SH, mean_rent_SH, median, std_SH_adj)\n",
    "samples_rg_sce2 = gen_random_custom(N_RG, mean_rent_RG, median, std_RG_adj)\n",
    "\n",
    "# Determine histogram ranges and bins for adjusted data\n",
    "bins_sh_adj = np.arange(min(samples_sh_sce2), max(samples_sh_sce2) + bin_width, bin_width)\n",
    "bins_rg_adj = np.arange(min(samples_rg_sce2), max(samples_rg_sce2) + bin_width, bin_width)\n",
    "\n",
    "# Plot histograms for both scenarios\n",
    "plt.figure(figsize=(14, 12))\n",
    "\n",
    "# Scenario #1\n",
    "plt.subplot(2, 1, 1)\n",
    "plt.hist(samples_sh_sce1, bins=bins_sh, color='blue', alpha=0.7, label='SH')\n",
    "plt.hist(samples_rg_sce1, bins=bins_rg, color='orange', alpha=0.7, label='RG')\n",
    "plt.title('Scenario #1')\n",
    "plt.xlabel('Rent (RCU)')\n",
    "plt.ylabel('Count')\n",
    "plt.legend()\n",
    "plt.grid(True)\n",
    "\n",
    "# Scenario #2\n",
    "plt.subplot(2, 1, 2)\n",
    "plt.hist(samples_sh_sce2, bins=bins_sh_adj, color='blue', alpha=0.7, label='SH')\n",
    "plt.hist(samples_rg_sce2, bins=bins_rg_adj, color='orange', alpha=0.7, label='RG')\n",
    "plt.title('Scenario #2')\n",
    "plt.xlabel('Rent (RCU)')\n",
    "plt.ylabel('Count')\n",
    "plt.legend()\n",
    "plt.grid(True)\n",
    "\n",
    "plt.tight_layout()\n",
    "plt.show()"
   ]
  },
  {
   "cell_type": "code",
   "execution_count": 28,
   "metadata": {
    "ExecuteTime": {
     "end_time": "2024-01-21T22:36:08.312840100Z",
     "start_time": "2024-01-21T22:36:08.301827400Z"
    },
    "id": "y9_Rhy0NPBWk"
   },
   "outputs": [],
   "source": [
    "def has_at_least_ten_non_zero_bins(data, bin_width):\n",
    "    # Calculate the histogram bin counts and the bin edges\n",
    "    counts, _ = np.histogram(data, bins=np.arange(min(data), max(data) + bin_width, bin_width))\n",
    "    # Count the number of non-zero bins\n",
    "    non_zero_bin_count = np.count_nonzero(counts)\n",
    "    # Check if there are at least 10 non-zero bins\n",
    "    return non_zero_bin_count >= 10"
   ]
  },
  {
   "cell_type": "code",
   "execution_count": 30,
   "metadata": {
    "ExecuteTime": {
     "end_time": "2024-01-21T22:36:09.144999900Z",
     "start_time": "2024-01-21T22:36:09.096901700Z"
    },
    "colab": {
     "base_uri": "https://localhost:8080/",
     "height": 175
    },
    "id": "hG51g4AfPBWm",
    "outputId": "a8d2339f-c79a-4058-dd18-15b654a51587",
    "scrolled": true
   },
   "outputs": [
    {
     "data": {
      "text/html": [
       "<div>\n",
       "<style scoped>\n",
       "    .dataframe tbody tr th:only-of-type {\n",
       "        vertical-align: middle;\n",
       "    }\n",
       "\n",
       "    .dataframe tbody tr th {\n",
       "        vertical-align: top;\n",
       "    }\n",
       "\n",
       "    .dataframe thead th {\n",
       "        text-align: right;\n",
       "    }\n",
       "</style>\n",
       "<table border=\"1\" class=\"dataframe\">\n",
       "  <thead>\n",
       "    <tr style=\"text-align: right;\">\n",
       "      <th></th>\n",
       "      <th>Scenario</th>\n",
       "      <th>Mean</th>\n",
       "      <th>Median</th>\n",
       "      <th>Standard Deviation</th>\n",
       "      <th>Variance</th>\n",
       "      <th>IQR</th>\n",
       "      <th>10+ Non-Zero Bins</th>\n",
       "    </tr>\n",
       "  </thead>\n",
       "  <tbody>\n",
       "    <tr>\n",
       "      <th>0</th>\n",
       "      <td>Scenario 1 - Stochastic Heights</td>\n",
       "      <td>6300</td>\n",
       "      <td>4600.000000</td>\n",
       "      <td>3210.52</td>\n",
       "      <td>10307428</td>\n",
       "      <td>6408.66</td>\n",
       "      <td>True</td>\n",
       "    </tr>\n",
       "    <tr>\n",
       "      <th>1</th>\n",
       "      <td>Scenario 1 - Random Grove</td>\n",
       "      <td>4200</td>\n",
       "      <td>4578.995476</td>\n",
       "      <td>3443.47</td>\n",
       "      <td>11857469</td>\n",
       "      <td>6792.04</td>\n",
       "      <td>True</td>\n",
       "    </tr>\n",
       "    <tr>\n",
       "      <th>2</th>\n",
       "      <td>Scenario 2 - Stochastic Heights</td>\n",
       "      <td>6300</td>\n",
       "      <td>4600.000000</td>\n",
       "      <td>3057.20</td>\n",
       "      <td>9346471</td>\n",
       "      <td>6095.86</td>\n",
       "      <td>True</td>\n",
       "    </tr>\n",
       "    <tr>\n",
       "      <th>3</th>\n",
       "      <td>Scenario 2 - Random Grove</td>\n",
       "      <td>4200</td>\n",
       "      <td>4600.000000</td>\n",
       "      <td>3131.76</td>\n",
       "      <td>9807916</td>\n",
       "      <td>6185.67</td>\n",
       "      <td>True</td>\n",
       "    </tr>\n",
       "  </tbody>\n",
       "</table>\n",
       "</div>"
      ],
      "text/plain": [
       "                          Scenario  Mean       Median  Standard Deviation  \\\n",
       "0  Scenario 1 - Stochastic Heights  6300  4600.000000             3210.52   \n",
       "1        Scenario 1 - Random Grove  4200  4578.995476             3443.47   \n",
       "2  Scenario 2 - Stochastic Heights  6300  4600.000000             3057.20   \n",
       "3        Scenario 2 - Random Grove  4200  4600.000000             3131.76   \n",
       "\n",
       "   Variance      IQR  10+ Non-Zero Bins  \n",
       "0  10307428  6408.66               True  \n",
       "1  11857469  6792.04               True  \n",
       "2   9346471  6095.86               True  \n",
       "3   9807916  6185.67               True  "
      ]
     },
     "execution_count": 30,
     "metadata": {},
     "output_type": "execute_result"
    }
   ],
   "source": [
    "def process_scenario(data, scenario_name):\n",
    "    return {\n",
    "        'Scenario': scenario_name,\n",
    "        'Mean': floor(np.mean(data)),\n",
    "        'Median': np.median(data),\n",
    "        'Standard Deviation': round(np.std(data), 2),\n",
    "        'Variance': round(np.var(data)),\n",
    "        'IQR': round(get_iqr(data), 2),\n",
    "        '10+ Non-Zero Bins': has_at_least_ten_non_zero_bins(data, 100)\n",
    "    }\n",
    "\n",
    "# Process each scenario\n",
    "scenario_1_sh = process_scenario(samples_sh_sce1, 'Scenario 1 - Stochastic Heights')\n",
    "scenario_1_rg = process_scenario(samples_rg_sce1, 'Scenario 1 - Random Grove')\n",
    "scenario_2_sh = process_scenario(samples_sh_sce2, 'Scenario 2 - Stochastic Heights')\n",
    "scenario_2_rg = process_scenario(samples_rg_sce2, 'Scenario 2 - Random Grove')\n",
    "\n",
    "df = pd.DataFrame([scenario_1_sh, scenario_1_rg, scenario_2_sh, scenario_2_rg])\n",
    "df"
   ]
  },
  {
   "cell_type": "code",
   "execution_count": 32,
   "metadata": {
    "ExecuteTime": {
     "end_time": "2024-01-21T22:34:23.456502600Z",
     "start_time": "2024-01-21T22:34:23.420691200Z"
    },
    "colab": {
     "base_uri": "https://localhost:8080/",
     "height": 175
    },
    "id": "keW8uuQNPBWm",
    "outputId": "7c44947a-55fc-433c-8b12-aed6cf401f4f",
    "scrolled": true
   },
   "outputs": [
    {
     "data": {
      "text/html": [
       "<style type=\"text/css\">\n",
       "#T_daabd_row0_col6, #T_daabd_row1_col6, #T_daabd_row2_col6, #T_daabd_row3_col6 {\n",
       "  color: green;\n",
       "}\n",
       "</style>\n",
       "<table id=\"T_daabd\">\n",
       "  <thead>\n",
       "    <tr>\n",
       "      <th class=\"blank level0\" >&nbsp;</th>\n",
       "      <th id=\"T_daabd_level0_col0\" class=\"col_heading level0 col0\" >Scenario</th>\n",
       "      <th id=\"T_daabd_level0_col1\" class=\"col_heading level0 col1\" >Mean</th>\n",
       "      <th id=\"T_daabd_level0_col2\" class=\"col_heading level0 col2\" >Median</th>\n",
       "      <th id=\"T_daabd_level0_col3\" class=\"col_heading level0 col3\" >Standard Deviation</th>\n",
       "      <th id=\"T_daabd_level0_col4\" class=\"col_heading level0 col4\" >Variance</th>\n",
       "      <th id=\"T_daabd_level0_col5\" class=\"col_heading level0 col5\" >IQR</th>\n",
       "      <th id=\"T_daabd_level0_col6\" class=\"col_heading level0 col6\" >10+ Non-Zero Bins</th>\n",
       "    </tr>\n",
       "  </thead>\n",
       "  <tbody>\n",
       "    <tr>\n",
       "      <th id=\"T_daabd_level0_row0\" class=\"row_heading level0 row0\" >0</th>\n",
       "      <td id=\"T_daabd_row0_col0\" class=\"data row0 col0\" >Scenario 1 - Stochastic Heights</td>\n",
       "      <td id=\"T_daabd_row0_col1\" class=\"data row0 col1\" >6300</td>\n",
       "      <td id=\"T_daabd_row0_col2\" class=\"data row0 col2\" >4600.000000</td>\n",
       "      <td id=\"T_daabd_row0_col3\" class=\"data row0 col3\" >3210.520000</td>\n",
       "      <td id=\"T_daabd_row0_col4\" class=\"data row0 col4\" >10307428</td>\n",
       "      <td id=\"T_daabd_row0_col5\" class=\"data row0 col5\" >6408.660000</td>\n",
       "      <td id=\"T_daabd_row0_col6\" class=\"data row0 col6\" >True</td>\n",
       "    </tr>\n",
       "    <tr>\n",
       "      <th id=\"T_daabd_level0_row1\" class=\"row_heading level0 row1\" >1</th>\n",
       "      <td id=\"T_daabd_row1_col0\" class=\"data row1 col0\" >Scenario 1 - Random Grove</td>\n",
       "      <td id=\"T_daabd_row1_col1\" class=\"data row1 col1\" >4200</td>\n",
       "      <td id=\"T_daabd_row1_col2\" class=\"data row1 col2\" >4578.995476</td>\n",
       "      <td id=\"T_daabd_row1_col3\" class=\"data row1 col3\" >3443.470000</td>\n",
       "      <td id=\"T_daabd_row1_col4\" class=\"data row1 col4\" >11857469</td>\n",
       "      <td id=\"T_daabd_row1_col5\" class=\"data row1 col5\" >6792.040000</td>\n",
       "      <td id=\"T_daabd_row1_col6\" class=\"data row1 col6\" >True</td>\n",
       "    </tr>\n",
       "    <tr>\n",
       "      <th id=\"T_daabd_level0_row2\" class=\"row_heading level0 row2\" >2</th>\n",
       "      <td id=\"T_daabd_row2_col0\" class=\"data row2 col0\" >Scenario 2 - Stochastic Heights</td>\n",
       "      <td id=\"T_daabd_row2_col1\" class=\"data row2 col1\" >6300</td>\n",
       "      <td id=\"T_daabd_row2_col2\" class=\"data row2 col2\" >4600.000000</td>\n",
       "      <td id=\"T_daabd_row2_col3\" class=\"data row2 col3\" >3057.200000</td>\n",
       "      <td id=\"T_daabd_row2_col4\" class=\"data row2 col4\" >9346471</td>\n",
       "      <td id=\"T_daabd_row2_col5\" class=\"data row2 col5\" >6095.860000</td>\n",
       "      <td id=\"T_daabd_row2_col6\" class=\"data row2 col6\" >True</td>\n",
       "    </tr>\n",
       "    <tr>\n",
       "      <th id=\"T_daabd_level0_row3\" class=\"row_heading level0 row3\" >3</th>\n",
       "      <td id=\"T_daabd_row3_col0\" class=\"data row3 col0\" >Scenario 2 - Random Grove</td>\n",
       "      <td id=\"T_daabd_row3_col1\" class=\"data row3 col1\" >4200</td>\n",
       "      <td id=\"T_daabd_row3_col2\" class=\"data row3 col2\" >4600.000000</td>\n",
       "      <td id=\"T_daabd_row3_col3\" class=\"data row3 col3\" >3131.760000</td>\n",
       "      <td id=\"T_daabd_row3_col4\" class=\"data row3 col4\" >9807916</td>\n",
       "      <td id=\"T_daabd_row3_col5\" class=\"data row3 col5\" >6185.670000</td>\n",
       "      <td id=\"T_daabd_row3_col6\" class=\"data row3 col6\" >True</td>\n",
       "    </tr>\n",
       "  </tbody>\n",
       "</table>\n"
      ],
      "text/plain": [
       "<pandas.io.formats.style.Styler at 0x1eb29f5ba10>"
      ]
     },
     "execution_count": 32,
     "metadata": {},
     "output_type": "execute_result"
    }
   ],
   "source": [
    "# Function to colorize the '10+ Non-Zero Bins' column\n",
    "def colorize_bins(val):\n",
    "    color = 'green' if val else 'red'\n",
    "    return f'color: {color}'\n",
    "\n",
    "# Styling the DataFrame\n",
    "styled_df = df.style.applymap(colorize_bins, subset=['10+ Non-Zero Bins'])\n",
    "styled_df"
   ]
  },
  {
   "cell_type": "code",
   "execution_count": null,
   "metadata": {},
   "outputs": [],
   "source": [
    "np."
   ]
  },
  {
   "cell_type": "markdown",
   "metadata": {
    "id": "EqPmYtVNCN-h"
   },
   "source": [
    "#### 2.B\n",
    "Draw a histogram of a third scenario with the same properties. <br>\n",
    "In addition, in this scenario the rent in SH should have a higher variance than the rent in RG."
   ]
  },
  {
   "cell_type": "code",
   "execution_count": null,
   "metadata": {
    "ExecuteTime": {
     "end_time": "2024-01-21T22:51:39.515573700Z",
     "start_time": "2024-01-21T22:51:39.480297900Z"
    },
    "id": "tgbGxr7uPBWn"
   },
   "outputs": [],
   "source": [
    "def gen_random_discrete_custom(N, mean, median):\n",
    "    temp_mean = mean\n",
    "    # Lengths of arr1 and arr2\n",
    "    arr_length = (N - 1) // 2\n",
    "\n",
    "    if mean > median:\n",
    "        # Generate arr1 and arr2\n",
    "        arr1 = np.random.randint(3000,median, arr_length)  # Values less than median\n",
    "        mid = [median, median]\n",
    "        arr2 = np.random.normal(4601, temp_mean, arr_length)  # Values around and above\n",
    "        while True:\n",
    "            combined_array = np.concatenate((arr1, mid, arr2))\n",
    "            current_mean = np.mean(combined_array)\n",
    "            if int(current_mean) != int(mean):\n",
    "                temp_mean += 1\n",
    "                arr2 = np.random.randint(median, temp_mean, arr_length)\n",
    "            else:\n",
    "                break\n",
    "        return np.concatenate((arr1, mid, arr2))\n",
    "    else:\n",
    "        temp_mean = median-1-median*0.5\n",
    "        arr1 = np.random.randint(median,median*1.5, arr_length)  # Values less than median\n",
    "        mid = [median, median]\n",
    "        arr2 = np.random.normal(median-1-median*0.5, median-median*0.5, arr_length)  # Values around and above\n",
    "        while True:\n",
    "            combined_array = np.concatenate((arr1, mid, arr2))\n",
    "            current_mean = np.mean(combined_array)\n",
    "            if int(current_mean) != int(mean):\n",
    "                temp_mean -= 1\n",
    "                arr2 = np.random.randint(temp_mean, median-median*0.5, arr_length)\n",
    "            else:\n",
    "                break\n",
    "        return np.concatenate((arr1, mid, arr2)), temp_mean"
   ]
  },
  {
   "cell_type": "code",
   "execution_count": null,
   "metadata": {
    "ExecuteTime": {
     "end_time": "2024-01-21T22:51:42.243419Z",
     "start_time": "2024-01-21T22:51:40.175605700Z"
    },
    "colab": {
     "base_uri": "https://localhost:8080/",
     "height": 338
    },
    "id": "0cj5i4i1PBWn",
    "outputId": "37efd4ed-8c32-4f0d-9a67-cff09697e642"
   },
   "outputs": [
    {
     "ename": "KeyboardInterrupt",
     "evalue": "",
     "output_type": "error",
     "traceback": [
      "\u001b[0;31m---------------------------------------------------------------------------\u001b[0m",
      "\u001b[0;31mKeyboardInterrupt\u001b[0m                         Traceback (most recent call last)",
      "\u001b[0;32m<ipython-input-135-21989a4c73d4>\u001b[0m in \u001b[0;36m<cell line: 2>\u001b[0;34m()\u001b[0m\n\u001b[1;32m      1\u001b[0m \u001b[0msamples_sh_sce3\u001b[0m \u001b[0;34m=\u001b[0m \u001b[0mgen_random_discrete_custom\u001b[0m\u001b[0;34m(\u001b[0m\u001b[0mN_SH\u001b[0m\u001b[0;34m,\u001b[0m \u001b[0mmean_rent_SH\u001b[0m\u001b[0;34m,\u001b[0m \u001b[0mmedian\u001b[0m\u001b[0;34m)\u001b[0m\u001b[0;34m\u001b[0m\u001b[0;34m\u001b[0m\u001b[0m\n\u001b[0;32m----> 2\u001b[0;31m \u001b[0msamples_rg_sce3\u001b[0m \u001b[0;34m=\u001b[0m \u001b[0mgen_random_discrete_custom\u001b[0m\u001b[0;34m(\u001b[0m\u001b[0mN_RG\u001b[0m\u001b[0;34m,\u001b[0m \u001b[0mmean_rent_RG\u001b[0m\u001b[0;34m,\u001b[0m \u001b[0mmedian\u001b[0m\u001b[0;34m)\u001b[0m\u001b[0;34m\u001b[0m\u001b[0;34m\u001b[0m\u001b[0m\n\u001b[0m",
      "\u001b[0;32m<ipython-input-134-92d0c29cef1a>\u001b[0m in \u001b[0;36mgen_random_discrete_custom\u001b[0;34m(N, mean, median)\u001b[0m\n\u001b[1;32m     25\u001b[0m         \u001b[0;32mwhile\u001b[0m \u001b[0;32mTrue\u001b[0m\u001b[0;34m:\u001b[0m\u001b[0;34m\u001b[0m\u001b[0;34m\u001b[0m\u001b[0m\n\u001b[1;32m     26\u001b[0m             \u001b[0mcombined_array\u001b[0m \u001b[0;34m=\u001b[0m \u001b[0mnp\u001b[0m\u001b[0;34m.\u001b[0m\u001b[0mconcatenate\u001b[0m\u001b[0;34m(\u001b[0m\u001b[0;34m(\u001b[0m\u001b[0marr1\u001b[0m\u001b[0;34m,\u001b[0m \u001b[0mmid\u001b[0m\u001b[0;34m,\u001b[0m \u001b[0marr2\u001b[0m\u001b[0;34m)\u001b[0m\u001b[0;34m)\u001b[0m\u001b[0;34m\u001b[0m\u001b[0;34m\u001b[0m\u001b[0m\n\u001b[0;32m---> 27\u001b[0;31m             \u001b[0mcurrent_mean\u001b[0m \u001b[0;34m=\u001b[0m \u001b[0mnp\u001b[0m\u001b[0;34m.\u001b[0m\u001b[0mmean\u001b[0m\u001b[0;34m(\u001b[0m\u001b[0mcombined_array\u001b[0m\u001b[0;34m)\u001b[0m\u001b[0;34m\u001b[0m\u001b[0;34m\u001b[0m\u001b[0m\n\u001b[0m\u001b[1;32m     28\u001b[0m             \u001b[0;32mif\u001b[0m \u001b[0mint\u001b[0m\u001b[0;34m(\u001b[0m\u001b[0mcurrent_mean\u001b[0m\u001b[0;34m)\u001b[0m \u001b[0;34m!=\u001b[0m \u001b[0mint\u001b[0m\u001b[0;34m(\u001b[0m\u001b[0mmean\u001b[0m\u001b[0;34m)\u001b[0m\u001b[0;34m:\u001b[0m\u001b[0;34m\u001b[0m\u001b[0;34m\u001b[0m\u001b[0m\n\u001b[1;32m     29\u001b[0m                 \u001b[0mtemp_mean\u001b[0m \u001b[0;34m-=\u001b[0m \u001b[0;36m1\u001b[0m\u001b[0;34m\u001b[0m\u001b[0;34m\u001b[0m\u001b[0m\n",
      "\u001b[0;32m/usr/local/lib/python3.10/dist-packages/numpy/core/overrides.py\u001b[0m in \u001b[0;36mmean\u001b[0;34m(*args, **kwargs)\u001b[0m\n",
      "\u001b[0;32m/usr/local/lib/python3.10/dist-packages/numpy/core/fromnumeric.py\u001b[0m in \u001b[0;36mmean\u001b[0;34m(a, axis, dtype, out, keepdims, where)\u001b[0m\n\u001b[1;32m   3430\u001b[0m             \u001b[0;32mreturn\u001b[0m \u001b[0mmean\u001b[0m\u001b[0;34m(\u001b[0m\u001b[0maxis\u001b[0m\u001b[0;34m=\u001b[0m\u001b[0maxis\u001b[0m\u001b[0;34m,\u001b[0m \u001b[0mdtype\u001b[0m\u001b[0;34m=\u001b[0m\u001b[0mdtype\u001b[0m\u001b[0;34m,\u001b[0m \u001b[0mout\u001b[0m\u001b[0;34m=\u001b[0m\u001b[0mout\u001b[0m\u001b[0;34m,\u001b[0m \u001b[0;34m**\u001b[0m\u001b[0mkwargs\u001b[0m\u001b[0;34m)\u001b[0m\u001b[0;34m\u001b[0m\u001b[0;34m\u001b[0m\u001b[0m\n\u001b[1;32m   3431\u001b[0m \u001b[0;34m\u001b[0m\u001b[0m\n\u001b[0;32m-> 3432\u001b[0;31m     return _methods._mean(a, axis=axis, dtype=dtype,\n\u001b[0m\u001b[1;32m   3433\u001b[0m                           out=out, **kwargs)\n\u001b[1;32m   3434\u001b[0m \u001b[0;34m\u001b[0m\u001b[0m\n",
      "\u001b[0;32m/usr/local/lib/python3.10/dist-packages/numpy/core/_methods.py\u001b[0m in \u001b[0;36m_mean\u001b[0;34m(a, axis, dtype, out, keepdims, where)\u001b[0m\n\u001b[1;32m    178\u001b[0m             \u001b[0mis_float16_result\u001b[0m \u001b[0;34m=\u001b[0m \u001b[0;32mTrue\u001b[0m\u001b[0;34m\u001b[0m\u001b[0;34m\u001b[0m\u001b[0m\n\u001b[1;32m    179\u001b[0m \u001b[0;34m\u001b[0m\u001b[0m\n\u001b[0;32m--> 180\u001b[0;31m     \u001b[0mret\u001b[0m \u001b[0;34m=\u001b[0m \u001b[0mumr_sum\u001b[0m\u001b[0;34m(\u001b[0m\u001b[0marr\u001b[0m\u001b[0;34m,\u001b[0m \u001b[0maxis\u001b[0m\u001b[0;34m,\u001b[0m \u001b[0mdtype\u001b[0m\u001b[0;34m,\u001b[0m \u001b[0mout\u001b[0m\u001b[0;34m,\u001b[0m \u001b[0mkeepdims\u001b[0m\u001b[0;34m,\u001b[0m \u001b[0mwhere\u001b[0m\u001b[0;34m=\u001b[0m\u001b[0mwhere\u001b[0m\u001b[0;34m)\u001b[0m\u001b[0;34m\u001b[0m\u001b[0;34m\u001b[0m\u001b[0m\n\u001b[0m\u001b[1;32m    181\u001b[0m     \u001b[0;32mif\u001b[0m \u001b[0misinstance\u001b[0m\u001b[0;34m(\u001b[0m\u001b[0mret\u001b[0m\u001b[0;34m,\u001b[0m \u001b[0mmu\u001b[0m\u001b[0;34m.\u001b[0m\u001b[0mndarray\u001b[0m\u001b[0;34m)\u001b[0m\u001b[0;34m:\u001b[0m\u001b[0;34m\u001b[0m\u001b[0;34m\u001b[0m\u001b[0m\n\u001b[1;32m    182\u001b[0m         ret = um.true_divide(\n",
      "\u001b[0;31mKeyboardInterrupt\u001b[0m: "
     ]
    }
   ],
   "source": [
    "samples_sh_sce3 = gen_random_discrete_custom(N_SH, mean_rent_SH, median)\n",
    "samples_rg_sce3 = gen_random_discrete_custom(N_RG, mean_rent_RG, median)"
   ]
  },
  {
   "cell_type": "code",
   "execution_count": null,
   "metadata": {
    "colab": {
     "base_uri": "https://localhost:8080/"
    },
    "id": "Lj5W66eNWCv9",
    "outputId": "f46033d7-ee94-4483-b5ca-b3e2eadd8803"
   },
   "outputs": [
    {
     "data": {
      "text/plain": [
       "719"
      ]
     },
     "execution_count": 132,
     "metadata": {},
     "output_type": "execute_result"
    }
   ],
   "source": [
    "samples_rg_sce3[1]"
   ]
  },
  {
   "cell_type": "code",
   "execution_count": null,
   "metadata": {
    "ExecuteTime": {
     "end_time": "2024-01-21T22:51:47.382339400Z",
     "start_time": "2024-01-21T22:51:47.304272200Z"
    },
    "colab": {
     "base_uri": "https://localhost:8080/"
    },
    "id": "3sXYXQH-PBWn",
    "outputId": "cfd4be09-6f1b-433d-9c53-b9aa893b9e67"
   },
   "outputs": [
    {
     "data": {
      "text/plain": [
       "{'Scenario': 'Scenario 3 - Stochastic Heights',\n",
       " 'Mean': 6300,\n",
       " 'Median': 4600.0,\n",
       " 'Standard Deviation': 3052.91,\n",
       " 'Variance': 9320247,\n",
       " 'IQR': 5015.0,\n",
       " '10+ Non-Zero Bins': True}"
      ]
     },
     "execution_count": 133,
     "metadata": {},
     "output_type": "execute_result"
    }
   ],
   "source": [
    "process_scenario(samples_sh_sce3, 'Scenario 3 - Stochastic Heights')"
   ]
  },
  {
   "cell_type": "code",
   "execution_count": null,
   "metadata": {
    "ExecuteTime": {
     "end_time": "2024-01-21T22:51:47.983672300Z",
     "start_time": "2024-01-21T22:51:47.935259400Z"
    },
    "colab": {
     "base_uri": "https://localhost:8080/"
    },
    "id": "oTuTiu1ZPBWn",
    "outputId": "7681654a-5ed3-49c0-ccf0-d117c03e7811"
   },
   "outputs": [
    {
     "data": {
      "text/plain": [
       "{'Scenario': 'Scenario 3 - Random Grove',\n",
       " 'Mean': 4200,\n",
       " 'Median': 4600.0,\n",
       " 'Standard Deviation': 1808.72,\n",
       " 'Variance': 3271484,\n",
       " 'IQR': 3103.0,\n",
       " '10+ Non-Zero Bins': True}"
      ]
     },
     "execution_count": 126,
     "metadata": {},
     "output_type": "execute_result"
    }
   ],
   "source": [
    "process_scenario(samples_rg_sce3, 'Scenario 3 - Random Grove')"
   ]
  },
  {
   "cell_type": "code",
   "execution_count": null,
   "metadata": {
    "ExecuteTime": {
     "end_time": "2024-01-21T22:48:23.802551700Z",
     "start_time": "2024-01-21T22:48:23.787256900Z"
    },
    "colab": {
     "base_uri": "https://localhost:8080/"
    },
    "id": "HhBzCUhFPBWn",
    "outputId": "38fccc19-5608-40f6-db22-e114bd28ec2f"
   },
   "outputs": [
    {
     "data": {
      "text/plain": [
       "2959"
      ]
     },
     "execution_count": 65,
     "metadata": {},
     "output_type": "execute_result"
    }
   ],
   "source": [
    "samples_rg_sce3.min()"
   ]
  },
  {
   "cell_type": "markdown",
   "metadata": {
    "id": "J-CLfujoCN-h"
   },
   "source": [
    "### Question 3 - Multinomial Distributions\n",
    "\n",
    "1. Let $X \\sim Multinomial(n,\\vec{p})$ be a multinomial random variable where $n=20$ and $\\vec{p} = (0.2,  0.1,  0.1,  0.1,  0.2,  0.3)$. Note that $X$ is a vector of counts.\n",
    "\n",
    "\n",
    "2. Consider the random variable $Y = X_2 + X_3 + X_4$.\n",
    "\n",
    "\n",
    "3. Create $k=100$ experiments where $X$ is sampled using Python. Calculate the empirical centralized third moment of $Y$ based on your $k$ experiments.\n",
    "\n",
    "\n",
    "4. Compare your result to results from class and explain your observation."
   ]
  },
  {
   "cell_type": "code",
   "execution_count": null,
   "metadata": {
    "colab": {
     "base_uri": "https://localhost:8080/"
    },
    "id": "HM9P-5_sCN-i",
    "outputId": "f460f945-434c-4284-faed-da6353750e1f"
   },
   "outputs": [
    {
     "name": "stdout",
     "output_type": "stream",
     "text": [
      "3.8310179999999945\n"
     ]
    }
   ],
   "source": [
    "n = 20\n",
    "p = [0.2, 0.1, 0.1, 0.1, 0.2, 0.3]\n",
    "k = 100\n",
    "\n",
    "X = multinomial(n, p)\n",
    "\n",
    "# Generate k samples\n",
    "samples = X.rvs(k)\n",
    "\n",
    "# Calculate Y = X2 + X3 + X4 for each sample\n",
    "Y = np.sum(samples[:, 1:4], axis=1)\n",
    "\n",
    "Y_mean = np.mean(Y)\n",
    "\n",
    "third_moment = np.mean((Y-Y_mean)**3)\n",
    "\n",
    "print(third_moment)"
   ]
  },
  {
   "cell_type": "markdown",
   "metadata": {
    "id": "bIFHJmbVANVj"
   },
   "source": [
    "In class, we reached the following equation for calculating the $3^{rd}$ central moment:\n",
    "\n",
    "$γ_3 = np(1-p)(1-2p)$\n",
    "\n",
    "Since we're calculating the centralized third moment of Y, we should first calculate $p_Y$:\n",
    "\n",
    "$p_Y = p_{X_2} + p_{X_3} + p_{X_4} = 0.1 + 0.1 + 0.1 = 0.3$\n",
    "\n",
    "Upon inserting the values of $n=20$ and $p_Y=0.3$ to the equation above, we get that $γ_3 = np(1-p)(1-2p) = 20*0.3*0.7*0.4 = 1.68$, which does not equal than the `third_moment` value we recieved with our calculations above.\n",
    "\n",
    "In fact, every time we run the snippet above we recieve a different value for the third moment. The reason for that is based on the fact that the amount of experiments we used ($k=100$) is relatively low. In order to see the calculations converge on a value (in our case it's $1.68$), we would need to raise k by several orders of magnitude. If for example we raise the amount of experiments so that $k=100,000$, the empirical centralized third moment we get is $1.689$."
   ]
  },
  {
   "cell_type": "markdown",
   "metadata": {
    "id": "gamH61XWCN-i"
   },
   "source": [
    "### Question 4 - Convolutions"
   ]
  },
  {
   "cell_type": "markdown",
   "metadata": {
    "id": "EKu8F1cDCN-i"
   },
   "source": [
    "#### 4.A\n",
    "Write a program, `Q = NFoldConv(P , n)`, that takes as input:\n",
    "* A distribution, P, of a random variable that takes finitely many integer values\n",
    "* An integer n\n",
    "\n",
    "and produces the distribution, Q, of the sum of n independent repeats of random variables, each of which has the distribution P."
   ]
  },
  {
   "cell_type": "code",
   "execution_count": null,
   "metadata": {
    "colab": {
     "base_uri": "https://localhost:8080/"
    },
    "id": "crjD3O4u0ZuL",
    "outputId": "ff59633f-bf24-49e6-a334-fdaaa2221cb8"
   },
   "outputs": [
    {
     "name": "stdout",
     "output_type": "stream",
     "text": [
      "{0: 0.00032000000000000013, 1: 0.004000000000000001, 2: 0.022400000000000003, 3: 0.07400000000000001, 4: 0.1597, 5: 0.23525, 6: 0.23954999999999999, 7: 0.1665, 8: 0.07559999999999999, 9: 0.020249999999999997, 10: 0.00243}\n"
     ]
    }
   ],
   "source": [
    "def NFoldConv(P, n):\n",
    "    # Convert distribution P into a list with probabilities ordered by outcome\n",
    "    max_val = max(P.keys())\n",
    "    distribution_list = [P.get(i, 0) for i in range(max_val + 1)]\n",
    "\n",
    "    # Initialize the result as the original distribution\n",
    "    result = np.array(distribution_list)\n",
    "\n",
    "    # Convolve n-1 times\n",
    "    for _ in range(n - 1):\n",
    "        result = np.convolve(result, distribution_list)\n",
    "\n",
    "    # Convert the result back to a dictionary format\n",
    "    Q = {i: prob for i, prob in enumerate(result)}\n",
    "\n",
    "    return Q\n",
    "\n",
    "\n",
    "# Example usage\n",
    "P = {0: 0.2, 1: 0.5, 2: 0.3}  # Example distribution\n",
    "n = 5  # Number of folds\n",
    "Q = NFoldConv(P, n)\n",
    "print(Q)"
   ]
  },
  {
   "cell_type": "markdown",
   "metadata": {
    "id": "35OjSoXmCN-j"
   },
   "source": [
    "#### 4.B\n",
    "Compute the distribution of the sum of the results of rolling a fair octahedron 17 independent times.\n",
    "\n",
    "<img src=\"https://upload.wikimedia.org/wikipedia/commons/2/27/Octahedron.jpg\" width=\"200\">\n"
   ]
  },
  {
   "cell_type": "code",
   "execution_count": null,
   "metadata": {
    "colab": {
     "base_uri": "https://localhost:8080/",
     "height": 590
    },
    "id": "6nmRsrd9CN-j",
    "outputId": "15aef235-818e-47e6-d2bd-80745d29d608"
   },
   "outputs": [
    {
     "data": {
      "image/png": "[encoded data removed]",
      "text/plain": [
       "<Figure size 1200x600 with 1 Axes>"
      ]
     },
     "metadata": {},
     "output_type": "display_data"
    }
   ],
   "source": [
    "p = {i: 1/8 for i in range(1, 9)}\n",
    "P = NFoldConv(p, 17)\n",
    "\n",
    "X = list(P.keys())\n",
    "Y = list(P.values())\n",
    "\n",
    "# plot and set parameters\n",
    "plt.figure(figsize=(12, 6))\n",
    "sns.barplot(x=X, y=Y, color='blue')\n",
    "plt.title('Probability Distribution of the Sum of 17 Independent Random Variables')\n",
    "plt.xlabel('Sum of the Results')\n",
    "plt.ylabel('Probability')\n",
    "\n",
    "# adjust the x-ticks\n",
    "tick_spacing = 5\n",
    "plt.xticks(ticks=range(0, len(X), tick_spacing), labels=range(min(X), max(X)+1, tick_spacing), rotation=90)\n",
    "\n",
    "# show the plot\n",
    "plt.tight_layout()\n",
    "plt.show()"
   ]
  },
  {
   "cell_type": "markdown",
   "metadata": {
    "id": "BFhvzb8eCN-j"
   },
   "source": [
    "### Question 5 - Counting Similar Strings"
   ]
  },
  {
   "cell_type": "markdown",
   "metadata": {
    "id": "C8bA5tx0CN-k"
   },
   "source": [
    "Define a probaility space $(\\Omega, P)$:\n",
    "* $\\Omega = \\{0,1\\}^n$.\n",
    "* $P$ is induced by independantly tossing a $p$-coin ($p \\in [0,1]$) n times.\n",
    "\n",
    "For $\\omega \\in \\Omega$ let $W(\\omega) =$ number of 1s in $\\omega$.\n",
    "\n",
    "For $\\omega \\in \\Omega$ let the random variable $C = C_{p, n}$ be defined by:\n",
    "$$C(\\omega) = |\\{\\zeta : W(\\zeta)=W(\\omega)\\}|$$"
   ]
  },
  {
   "cell_type": "markdown",
   "metadata": {
    "id": "90FCeYn2CN-k"
   },
   "source": [
    "#### 5.A\n",
    "Plot the distribution of $W$ for $n = 100$ and $p = 0.3$. What is the name of this distribution?"
   ]
  },
  {
   "cell_type": "markdown",
   "metadata": {
    "id": "gzIiYtoJNtgO"
   },
   "source": [
    "The distribution of W is a binomial distribution."
   ]
  },
  {
   "cell_type": "code",
   "execution_count": null,
   "metadata": {
    "colab": {
     "base_uri": "https://localhost:8080/",
     "height": 472
    },
    "id": "C1BWliKoCN-k",
    "outputId": "89132e4d-5ada-4a55-cc68-1849d47cca08"
   },
   "outputs": [
    {
     "data": {
      "image/png": "[encoded data removed]",
      "text/plain": [
       "<Figure size 640x480 with 1 Axes>"
      ]
     },
     "metadata": {},
     "output_type": "display_data"
    }
   ],
   "source": [
    "n = 100\n",
    "p = 0.3\n",
    "W = binom(n, p)\n",
    "probabilities = [W.pmf(w) for w in range(n+1)]\n",
    "plt.bar(range(n+1), probabilities)\n",
    "plt.title('Distribution of W for n=100, p=0.3')\n",
    "plt.xlabel('Number of 1s (W)')\n",
    "plt.ylabel('Probability')\n",
    "plt.show()"
   ]
  },
  {
   "cell_type": "markdown",
   "metadata": {
    "id": "1bg9RVjQCN-k"
   },
   "source": [
    "#### 5.B\n",
    "State a formula for computing $E(C)$.\n",
    "\n",
    "Compute $E(C)$ for $p=0.1, 0.5, 0.8$ and $n=10, 20, 50, 100$"
   ]
  },
  {
   "cell_type": "markdown",
   "metadata": {
    "id": "r6TLtG9IO77F"
   },
   "source": [
    "The formula for computing $E(C)$ is:\n",
    "\n",
    "$E(C)=Σ_{ω∈Ω}C(ω)P(ω)$ which is equal to $Σ_{k=0}^nC_kP(W=k)$, where $C_k$ is the number of different outcomes in Ω that have $k$ 1s, and $P(W=k)$ is the probability of having $k$ 1s, which is what we computed previously and is given by the binomial distribution.\n",
    "\n",
    "Since C is the number of permutations of the same number of 1s we can easily compute that value by ${n \\choose k}$.\n"
   ]
  },
  {
   "cell_type": "code",
   "execution_count": null,
   "metadata": {
    "id": "wjSsUmrTCN-l"
   },
   "outputs": [],
   "source": [
    "def compute_expected_c(n, p):\n",
    "    W = binom(n, p)\n",
    "    probabilities = [W.pmf(w) for w in range(n+1)]\n",
    "\n",
    "    expected_c = 0\n",
    "\n",
    "    for k in range(n+1):\n",
    "        c_w = factorial(n) / (factorial(k) * factorial(n-k))\n",
    "        expected_c += probabilities[k] * c_w\n",
    "\n",
    "    return expected_c"
   ]
  },
  {
   "cell_type": "code",
   "execution_count": null,
   "metadata": {
    "colab": {
     "base_uri": "https://localhost:8080/"
    },
    "id": "ZvpDCZ9tVRjK",
    "outputId": "133136a1-d43b-4404-cab2-1cfebb12a0a1"
   },
   "outputs": [
    {
     "name": "stdout",
     "output_type": "stream",
     "text": [
      "E(C) = 22.576 for p = 0.1 and n = 10\n",
      "E(C) = 1757.746 for p = 0.1 and n = 20\n",
      "E(C) = 1479309659.773 for p = 0.1 and n = 50\n",
      "E(C) = 16815694309212332032.000 for p = 0.1 and n = 100\n",
      "E(C) = 180.426 for p = 0.5 and n = 10\n",
      "E(C) = 131460.694 for p = 0.5 and n = 20\n",
      "E(C) = 89609514959899.984 for p = 0.5 and n = 50\n",
      "E(C) = 71430183238031662084285005824.000 for p = 0.5 and n = 100\n",
      "E(C) = 66.950 for p = 0.8 and n = 10\n",
      "E(C) = 16979.432 for p = 0.8 and n = 20\n",
      "E(C) = 490151964857.802 for p = 0.8 and n = 50\n",
      "E(C) = 2013008191527900145516544.000 for p = 0.8 and n = 100\n"
     ]
    }
   ],
   "source": [
    "p_values = [0.1, 0.5, 0.8]\n",
    "n_values = [10, 20, 50, 100]\n",
    "\n",
    "for p in p_values:\n",
    "    for n in n_values:\n",
    "        print(f'E(C) = {compute_expected_c(n, p):.3f} for p = {p} and n = {n}')"
   ]
  },
  {
   "cell_type": "markdown",
   "metadata": {
    "id": "1IA1MqPcCN-l"
   },
   "source": [
    "#### 5.C\n",
    "Plot the histograms of the values of $C$ for 1000 samples drawn from the space $(\\Omega, P)$ for each combination of $p$ and $n$ from the previous section. <br>\n",
    "Add text to each histogram with the empirical average of $C$ and the computed value of $E(C)$ (from the previous section). <br>\n",
    "In every histogram indicate the values of $n$ and $p$."
   ]
  },
  {
   "cell_type": "code",
   "execution_count": null,
   "metadata": {
    "id": "26ST6rh-W-nS"
   },
   "outputs": [],
   "source": [
    "def simulate_C(p, n, num_samples):\n",
    "    samples = []\n",
    "    for _ in range(num_samples):\n",
    "        # Generate a sequence by flipping a coin\n",
    "        sequence = np.random.binomial(1, p, n)\n",
    "        # Count the number of 1s in the sequence\n",
    "        k = np.sum(sequence)\n",
    "        # Number of sequences with exactly k ones\n",
    "        count = binom(n, k)\n",
    "        samples.append(count)\n",
    "    return samples"
   ]
  },
  {
   "cell_type": "code",
   "execution_count": null,
   "metadata": {
    "colab": {
     "base_uri": "https://localhost:8080/"
    },
    "id": "fmRXGcuTXOYy",
    "outputId": "1be95a7b-9a77-4646-b9a6-32836fe0b94b"
   },
   "outputs": [
    {
     "data": {
      "text/plain": [
       "<scipy.stats._distn_infrastructure.rv_discrete_frozen at 0x7a5f8190ef50>"
      ]
     },
     "execution_count": 74,
     "metadata": {},
     "output_type": "execute_result"
    }
   ],
   "source": [
    "binom(10, 3)"
   ]
  },
  {
   "cell_type": "code",
   "execution_count": null,
   "metadata": {
    "colab": {
     "base_uri": "https://localhost:8080/"
    },
    "id": "cYLwY-DfW_A1",
    "outputId": "d4ce1b80-e749-4da5-96a7-1f4ad7d6e9a8"
   },
   "outputs": [
    {
     "data": {
      "text/plain": [
       "1000"
      ]
     },
     "execution_count": 75,
     "metadata": {},
     "output_type": "execute_result"
    }
   ],
   "source": [
    "temp = simulate_C(0.1,10,1000)\n",
    "len(temp)"
   ]
  },
  {
   "cell_type": "code",
   "execution_count": null,
   "metadata": {
    "id": "6RxKkzk_CN-l"
   },
   "outputs": [],
   "source": [
    "def generate_samples(n, p, num_samples):\n",
    "    samples = np.random.choice([0, 1], size=(num_samples, n), p=[1-p, p])\n",
    "    return samples\n",
    "\n",
    "def calc_c(samples):\n",
    "    C_values = [factorial(samples.shape[1]) // (factorial(np.sum(sample)) * factorial(samples.shape[1] - np.sum(sample))) for sample in samples]\n",
    "    return C_values\n",
    "    return [len(set(tuple(perm))) for perm in samples]\n",
    "    # k_values = range(n+1)\n",
    "    # c_values = [factorial(n) / (factorial(k) * factorial(n-k)) for k in k_values]\n",
    "    # return c_values"
   ]
  },
  {
   "cell_type": "code",
   "execution_count": null,
   "metadata": {
    "colab": {
     "base_uri": "https://localhost:8080/"
    },
    "id": "clY2LQXcl2wH",
    "outputId": "b02110c3-ca38-4ba2-a1e3-ada851b27f74"
   },
   "outputs": [
    {
     "name": "stdout",
     "output_type": "stream",
     "text": [
      "0.4003221391579536\n"
     ]
    },
    {
     "data": {
      "text/plain": [
       "8240.301"
      ]
     },
     "execution_count": 67,
     "metadata": {},
     "output_type": "execute_result"
    }
   ],
   "source": [
    "p_values = [0.1, 0.5, 0.8]\n",
    "n_values = [10, 20, 50, 100]\n",
    "num_samples = 1000\n",
    "\n",
    "samples = generate_samples(100, 0.8, num_samples)\n",
    "print(np.std(samples))\n",
    "np.sum([np.sum(samples[i]) for i in samples])/len(samples)\n",
    "# c_values = calc_c(samples)\n",
    "# print(c_values)\n",
    "\n",
    "# plt.hist(c_values, bins=np.arange(min(c_values), max(c_values)))\n",
    "# plt.title(f'Histogram of C for n={n}, p={p}')\n",
    "# plt.xlabel('C')\n",
    "# plt.ylabel('Frequency')\n",
    "# plt.show()\n",
    "\n"
   ]
  },
  {
   "cell_type": "code",
   "execution_count": null,
   "metadata": {
    "id": "xqfWR0RqRREd"
   },
   "outputs": [],
   "source": [
    "fig, axs = plt.subplots(nrows=len(p_values), ncols=len(n_values), figsize=(14, 12))\n",
    "\n",
    "for i, p in enumerate(p_values):\n",
    "    for j, n in enumerate(n_values):\n",
    "        samples = generate_samples(n, p, num_samples)\n",
    "        c_values = calc_c(samples)\n",
    "        plt.subplot(i+1, j+1, (i+1)*(j+1))\n",
    "        plt.hist(c_values, bins=np.arange(min(c_values), max(c_values)))\n",
    "        plt.title(f'Histogram of C for n={n}, p={p}')\n",
    "        plt.suptitle(f'Empirical Average = {np.mean(c_values)}, Computed E(C) = {compute_expected_c(n, p):.3f}')\n",
    "        plt.xlabel('C')\n",
    "        plt.ylabel('Frequency')\n",
    "plt.show()"
   ]
  },
  {
   "cell_type": "code",
   "execution_count": null,
   "metadata": {
    "colab": {
     "base_uri": "https://localhost:8080/"
    },
    "id": "kDjTmZUyqFrz",
    "outputId": "cb827909-1505-4f5f-e16d-f8aee5c7013f"
   },
   "outputs": [
    {
     "data": {
      "text/plain": [
       "30"
      ]
     },
     "execution_count": 44,
     "metadata": {},
     "output_type": "execute_result"
    }
   ],
   "source": [
    "sample\n",
    "len(sample)"
   ]
  },
  {
   "cell_type": "markdown",
   "metadata": {
    "id": "0UqINJTtCN-l"
   },
   "source": [
    "#### 5.D\n",
    "Use a scatter plot to compare the empirical and the computed values from the previous section."
   ]
  },
  {
   "cell_type": "code",
   "execution_count": null,
   "metadata": {
    "id": "QDNbBr7OCN-l"
   },
   "outputs": [],
   "source": []
  },
  {
   "cell_type": "markdown",
   "metadata": {
    "id": "dVy8qWzaCN-m"
   },
   "source": [
    "### Question 6 - Coupon collector\n",
    "\n",
    "Let $T_{N}$ denote the waiting time for full single coupon collection with N different equiprobable coupon types"
   ]
  },
  {
   "cell_type": "markdown",
   "metadata": {
    "id": "5nV4No_wCN-m"
   },
   "source": [
    "#### 6.A\n",
    "Write code to compute the exact value of $E(T_{N})$"
   ]
  },
  {
   "cell_type": "markdown",
   "metadata": {
    "id": "JF8Hhelurcrr"
   },
   "source": [
    "In class we proved that $E(T_N) = nH(n)$ where $H(n)$ is considered the $n_{th}$ harmonic number, and the equation to calculate it is:\n",
    "\n",
    "$H_n=∑_{k=1}^n {1 \\over k}$"
   ]
  },
  {
   "cell_type": "code",
   "execution_count": null,
   "metadata": {
    "id": "HhbYVMTZCN-m"
   },
   "outputs": [],
   "source": [
    "def calc_nth_harmonic_number(n):\n",
    "    return sum(1/(i) for i in range(1, n+1))\n",
    "\n",
    "def calc_expected_wait(n):\n",
    "    return n * calc_nth_harmonic_number(n)"
   ]
  },
  {
   "cell_type": "markdown",
   "metadata": {
    "id": "jQQ8cyClCN-m"
   },
   "source": [
    "#### 6.B\n",
    "Write code to compute the exact value of $V(T_{N})$"
   ]
  },
  {
   "cell_type": "markdown",
   "metadata": {
    "id": "EE-MtWukvGsC"
   },
   "source": [
    "In class we proved that $Var(T_N)=n^2∑_{i=1}^n {1 \\over i^2}-nH(n)$."
   ]
  },
  {
   "cell_type": "code",
   "execution_count": null,
   "metadata": {
    "id": "64v5K1iqCN-m"
   },
   "outputs": [],
   "source": [
    "def calc_wait_variance(n):\n",
    "    return n**2 * sum(1/(i**2) for i in range(1, n+1)) - n*calc_nth_harmonic_number(n)"
   ]
  },
  {
   "cell_type": "markdown",
   "metadata": {
    "id": "j7LAJPCQCN-n"
   },
   "source": [
    "#### 6.C\n",
    "Write code to exactly compute $P(T_{30}>60)$"
   ]
  },
  {
   "cell_type": "code",
   "execution_count": null,
   "metadata": {
    "colab": {
     "base_uri": "https://localhost:8080/"
    },
    "id": "Exec_9rbCN-n",
    "outputId": "f66a8e2b-fbad-44af-e9b3-6e1dd771f3a1"
   },
   "outputs": [
    {
     "name": "stdout",
     "output_type": "stream",
     "text": [
      "0.9940158432042814\n"
     ]
    }
   ],
   "source": [
    "def calc_cdf_probability(num_coupons, k):\n",
    "    # create the probabilities for the geometric distribution\n",
    "    probabilities = (num_coupons - np.arange(num_coupons)) / num_coupons\n",
    "    # array of timepoints for collecting a coupon\n",
    "    timepoints = np.arange(k) + 1\n",
    "\n",
    "    p = geom.pmf(timepoints, probabilities[0])\n",
    "    for probability in probabilities[1:]:\n",
    "        p_i = geom.pmf(timepoints, probability)\n",
    "        p = np.convolve(p, p_i)\n",
    "\n",
    "    return 1 - sum(p[:k - num_coupons + 1])\n",
    "\n",
    "print(calc_cdf_probability(num_coupons=30, k=60))"
   ]
  },
  {
   "cell_type": "markdown",
   "metadata": {
    "id": "PeDlcySVCN-n"
   },
   "source": [
    "#### 6.D\n",
    "Let $S_N$ denote the waiting time until $N/2$ different coupons are collected.\n",
    "\n",
    "Compute $E(S_{60})$ - the expected value of the time it will take to observe $N/2=60/2=30$ from the total of $N=60$ coupon types"
   ]
  },
  {
   "cell_type": "markdown",
   "metadata": {
    "id": "sy_yDHPKCN-n"
   },
   "source": [
    "As we proved in class, $E(T_N)=∑_{k=1}^n {n \\over n-k+1}=nH(n)$.\n",
    "\n",
    "To compute $E(S_{60})$ in order to measure the time to get half the coupons, we need to compute the following sum: $∑_{k=1}^{n/2} {n \\over n-k+1}$, which is equal to:\n",
    "\n",
    " $nH(n) - nH({n\\over2})=n(H(n) - H({n\\over2}))$\n"
   ]
  },
  {
   "cell_type": "code",
   "execution_count": null,
   "metadata": {
    "colab": {
     "base_uri": "https://localhost:8080/"
    },
    "id": "5kHk7JhB0fuC",
    "outputId": "50d67b5f-816c-467a-cf88-0c32b937a62d"
   },
   "outputs": [
    {
     "name": "stdout",
     "output_type": "stream",
     "text": [
      "41.09299692188073\n"
     ]
    }
   ],
   "source": [
    "n = 60\n",
    "\n",
    "print(n * (calc_nth_harmonic_number(n) - calc_nth_harmonic_number(n//2)))"
   ]
  },
  {
   "cell_type": "markdown",
   "metadata": {
    "id": "kVEFfMwFCN-o"
   },
   "source": [
    "#### 6.E\n",
    "Write code to exactly compute $P(S_{60}>60)$"
   ]
  },
  {
   "cell_type": "code",
   "execution_count": null,
   "metadata": {
    "colab": {
     "base_uri": "https://localhost:8080/"
    },
    "id": "3wGL4PfQCN-o",
    "outputId": "c4e1ec8b-11e0-4d84-97f8-00ada2403afd"
   },
   "outputs": [
    {
     "name": "stdout",
     "output_type": "stream",
     "text": [
      "0.00017216506473560766\n"
     ]
    }
   ],
   "source": [
    "def calc_partial_cdf_probability(num_coupons, k, to_collect):\n",
    "    probabilities = (num_coupons - np.arange(num_coupons)) / num_coupons\n",
    "    probabilities = probabilities[:to_collect]\n",
    "\n",
    "    timepoints = np.arange(k) + 1\n",
    "\n",
    "    p = geom.pmf(timepoints, probabilities[0])\n",
    "    for probability in probabilities[1:]:\n",
    "        p_i = geom.pmf(timepoints, probability)\n",
    "        p = np.convolve(p, p_i)\n",
    "\n",
    "    return 1 - sum(p[:k - to_collect + 1])\n",
    "\n",
    "print(calc_partial_cdf_probability(num_coupons=60, k=60, to_collect=30))"
   ]
  }
 ],
 "metadata": {
  "colab": {
   "provenance": []
  },
  "kernelspec": {
   "display_name": "Python 3 (ipykernel)",
   "language": "python",
   "name": "python3"
  },
  "language_info": {
   "codemirror_mode": {
    "name": "ipython",
    "version": 3
   },
   "file_extension": ".py",
   "mimetype": "text/x-python",
   "name": "python",
   "nbconvert_exporter": "python",
   "pygments_lexer": "ipython3",
   "version": "3.11.4"
  },
  "vscode": {
   "interpreter": {
    "hash": "dd2d0427b55c792862d60bae42c8d161ebdba2e652c8106234db09a5f79643d7"
   }
  }
 },
 "nbformat": 4,
 "nbformat_minor": 4
}
